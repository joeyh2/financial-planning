{
 "cells": [
  {
   "cell_type": "markdown",
   "metadata": {},
   "source": [
    "# Unit 5 - Financial Planning"
   ]
  },
  {
   "cell_type": "code",
   "execution_count": 1,
   "metadata": {},
   "outputs": [],
   "source": [
    "# Initial imports\n",
    "import os\n",
    "import json\n",
    "import requests\n",
    "import pandas as pd\n",
    "from dotenv import load_dotenv\n",
    "import alpaca_trade_api as tradeapi\n",
    "from MCForecastTools import MCSimulation\n",
    "\n",
    "%matplotlib inline"
   ]
  },
  {
   "cell_type": "code",
   "execution_count": 2,
   "metadata": {},
   "outputs": [
    {
     "data": {
      "text/plain": [
       "True"
      ]
     },
     "execution_count": 2,
     "metadata": {},
     "output_type": "execute_result"
    }
   ],
   "source": [
    "# Load .env enviroment variables\n",
    "load_dotenv()"
   ]
  },
  {
   "cell_type": "markdown",
   "metadata": {},
   "source": [
    "## Part 1 - Personal Finance Planner"
   ]
  },
  {
   "cell_type": "markdown",
   "metadata": {},
   "source": [
    "### Collect Crypto Prices Using the `requests` Library"
   ]
  },
  {
   "cell_type": "code",
   "execution_count": 3,
   "metadata": {},
   "outputs": [],
   "source": [
    "# Set bitcoin and ethereum holdings\n",
    "my_btc = 1.2  \n",
    "my_eth = 5.3"
   ]
  },
  {
   "cell_type": "code",
   "execution_count": 4,
   "metadata": {},
   "outputs": [],
   "source": [
    "# Crypto API URLs\n",
    "btc_url = \"https://api.alternative.me/v2/ticker/Bitcoin/?convert=CAD?format=json\"\n",
    "eth_url = \"https://api.alternative.me/v2/ticker/Ethereum/?convert=CAD?format=json\""
   ]
  },
  {
   "cell_type": "code",
   "execution_count": 5,
   "metadata": {},
   "outputs": [],
   "source": [
    "# Fetch current BTC price\n",
    "response_btc = requests.get(\"https://api.alternative.me/v2/ticker/Bitcoin/?convert=CAD\")"
   ]
  },
  {
   "cell_type": "code",
   "execution_count": 6,
   "metadata": {},
   "outputs": [],
   "source": [
    "# Fetch current ETH price\n",
    "response_eth = requests.get(\"https://api.alternative.me/v2/ticker/Ethereum/?convert=CAD\")"
   ]
  },
  {
   "cell_type": "code",
   "execution_count": 7,
   "metadata": {},
   "outputs": [],
   "source": [
    "# Formatting as json\n",
    "data_btc = response_btc.json()\n",
    "data_eth = response_eth.json()"
   ]
  },
  {
   "cell_type": "code",
   "execution_count": 8,
   "metadata": {},
   "outputs": [
    {
     "name": "stdout",
     "output_type": "stream",
     "text": [
      "{\n",
      "    \"data\": {\n",
      "        \"1\": {\n",
      "            \"id\": 1,\n",
      "            \"name\": \"Bitcoin\",\n",
      "            \"symbol\": \"BTC\",\n",
      "            \"website_slug\": \"bitcoin\",\n",
      "            \"rank\": 1,\n",
      "            \"circulating_supply\": 18934312,\n",
      "            \"total_supply\": 18934312,\n",
      "            \"max_supply\": 21000000,\n",
      "            \"quotes\": {\n",
      "                \"USD\": {\n",
      "                    \"price\": 41978.0,\n",
      "                    \"volume_24h\": 20412574415,\n",
      "                    \"market_cap\": 793333252389,\n",
      "                    \"percentage_change_1h\": -0.505222933147193,\n",
      "                    \"percentage_change_24h\": 0.858572083608444,\n",
      "                    \"percentage_change_7d\": -1.86916833046975,\n",
      "                    \"percent_change_1h\": -0.505222933147193,\n",
      "                    \"percent_change_24h\": 0.858572083608444,\n",
      "                    \"percent_change_7d\": -1.86916833046975\n",
      "                },\n",
      "                \"CAD\": {\n",
      "                    \"price\": 52434.7198,\n",
      "                    \"volume_24h\": 25497346701.7765,\n",
      "                    \"market_cap\": 990952565559.099,\n",
      "                    \"percent_change_1h\": -0.505222933147193,\n",
      "                    \"percent_change_24h\": 0.858572083608444,\n",
      "                    \"percent_change_7d\": -1.86916833046975\n",
      "                }\n",
      "            },\n",
      "            \"last_updated\": 1642618429\n",
      "        }\n",
      "    },\n",
      "    \"metadata\": {\n",
      "        \"timestamp\": 1642618429,\n",
      "        \"num_cryptocurrencies\": 3105,\n",
      "        \"error\": null\n",
      "    }\n",
      "}\n"
     ]
    }
   ],
   "source": [
    "# Add indents to btc json file and output to screen\n",
    "print(json.dumps(data_btc, indent=4))"
   ]
  },
  {
   "cell_type": "code",
   "execution_count": 9,
   "metadata": {},
   "outputs": [
    {
     "name": "stdout",
     "output_type": "stream",
     "text": [
      "{\n",
      "    \"data\": {\n",
      "        \"1027\": {\n",
      "            \"id\": 1027,\n",
      "            \"name\": \"Ethereum\",\n",
      "            \"symbol\": \"ETH\",\n",
      "            \"website_slug\": \"ethereum\",\n",
      "            \"rank\": 2,\n",
      "            \"circulating_supply\": 119227432,\n",
      "            \"total_supply\": 119227432,\n",
      "            \"max_supply\": 0,\n",
      "            \"quotes\": {\n",
      "                \"USD\": {\n",
      "                    \"price\": 3133.84,\n",
      "                    \"volume_24h\": 13417209749,\n",
      "                    \"market_cap\": 372871591153,\n",
      "                    \"percentage_change_1h\": -0.338391137368049,\n",
      "                    \"percentage_change_24h\": 0.808872460892468,\n",
      "                    \"percentage_change_7d\": -3.46754097103802,\n",
      "                    \"percent_change_1h\": -0.338391137368049,\n",
      "                    \"percent_change_24h\": 0.808872460892468,\n",
      "                    \"percent_change_7d\": -3.46754097103802\n",
      "                },\n",
      "                \"CAD\": {\n",
      "                    \"price\": 3914.479544,\n",
      "                    \"volume_24h\": 16759436697.4759,\n",
      "                    \"market_cap\": 465753904509.212,\n",
      "                    \"percent_change_1h\": -0.338391137368049,\n",
      "                    \"percent_change_24h\": 0.808872460892468,\n",
      "                    \"percent_change_7d\": -3.46754097103802\n",
      "                }\n",
      "            },\n",
      "            \"last_updated\": 1642618481\n",
      "        }\n",
      "    },\n",
      "    \"metadata\": {\n",
      "        \"timestamp\": 1642618481,\n",
      "        \"num_cryptocurrencies\": 3105,\n",
      "        \"error\": null\n",
      "    }\n",
      "}\n"
     ]
    }
   ],
   "source": [
    "# Add indents to btc json file and output to screen\n",
    "print(json.dumps(data_eth, indent=4))"
   ]
  },
  {
   "cell_type": "code",
   "execution_count": 10,
   "metadata": {},
   "outputs": [],
   "source": [
    "# Set btc and eth prices to variables\n",
    "price_btc = data_btc[\"data\"][\"1\"][\"quotes\"][\"USD\"][\"price\"]\n",
    "price_eth = data_eth[\"data\"][\"1027\"][\"quotes\"][\"USD\"][\"price\"]"
   ]
  },
  {
   "cell_type": "code",
   "execution_count": 11,
   "metadata": {},
   "outputs": [],
   "source": [
    "# Compute current value of crypto portfolio\n",
    "my_btc_value = price_btc*my_btc\n",
    "my_eth_value = price_eth*my_eth\n",
    "crypto_value = my_btc_value + my_eth_value"
   ]
  },
  {
   "cell_type": "code",
   "execution_count": 12,
   "metadata": {},
   "outputs": [
    {
     "name": "stdout",
     "output_type": "stream",
     "text": [
      "The current value of your 1.2 BTC is $50373.60\n",
      "The current value of your 5.3 ETH is $16609.35\n",
      "Total balance: $66982.95199999999\n"
     ]
    }
   ],
   "source": [
    "# Print current crypto wallet balance\n",
    "print(f\"The current value of your {my_btc} BTC is ${my_btc_value:0.2f}\")\n",
    "print(f\"The current value of your {my_eth} ETH is ${my_eth_value:0.2f}\")\n",
    "print(f\"Total balance: ${crypto_value}\")"
   ]
  },
  {
   "cell_type": "markdown",
   "metadata": {},
   "source": [
    "### Collect Investments Data Using Alpaca: `SPY` (stocks) and `AGG` (bonds)"
   ]
  },
  {
   "cell_type": "code",
   "execution_count": 13,
   "metadata": {},
   "outputs": [],
   "source": [
    "# Set current amount of shares\n",
    "my_agg = 200\n",
    "my_spy = 50"
   ]
  },
  {
   "cell_type": "code",
   "execution_count": 14,
   "metadata": {},
   "outputs": [],
   "source": [
    "# Set Alpaca API key and secret\n",
    "alpaca_api_key = os.getenv(\"ALPACA_API_KEY\")\n",
    "alpaca_secret_key = os.getenv(\"ALPACA_SECRET_KEY\")"
   ]
  },
  {
   "cell_type": "code",
   "execution_count": 15,
   "metadata": {},
   "outputs": [],
   "source": [
    "# Create the Alpaca API object\n",
    "alpaca = tradeapi.REST(\n",
    "    alpaca_api_key,\n",
    "    alpaca_secret_key,\n",
    "    api_version=\"v2\")"
   ]
  },
  {
   "cell_type": "code",
   "execution_count": 16,
   "metadata": {},
   "outputs": [],
   "source": [
    "# Format current date as ISO format\n",
    "today = pd.Timestamp(\"2022-01-18\", tz=\"America/New_York\").isoformat()"
   ]
  },
  {
   "cell_type": "code",
   "execution_count": 17,
   "metadata": {},
   "outputs": [],
   "source": [
    "# Set the tickers\n",
    "tickers = [\"AGG\", \"SPY\"]"
   ]
  },
  {
   "cell_type": "code",
   "execution_count": 18,
   "metadata": {},
   "outputs": [],
   "source": [
    "# Set timeframe to '1D' for Alpaca API\n",
    "timeframe = \"1D\""
   ]
  },
  {
   "cell_type": "code",
   "execution_count": 19,
   "metadata": {},
   "outputs": [],
   "source": [
    "# Get current closing prices for SPY and AGG\n",
    "# (use a limit=1000 parameter to call the most recent 1000 days of data)\n",
    "df_portfolio = alpaca.get_barset(\n",
    "    tickers,\n",
    "    timeframe,\n",
    "    end=today,\n",
    "    limit = 1000,\n",
    ").df"
   ]
  },
  {
   "cell_type": "code",
   "execution_count": 20,
   "metadata": {},
   "outputs": [
    {
     "data": {
      "text/html": [
       "<div>\n",
       "<style scoped>\n",
       "    .dataframe tbody tr th:only-of-type {\n",
       "        vertical-align: middle;\n",
       "    }\n",
       "\n",
       "    .dataframe tbody tr th {\n",
       "        vertical-align: top;\n",
       "    }\n",
       "\n",
       "    .dataframe thead tr th {\n",
       "        text-align: left;\n",
       "    }\n",
       "\n",
       "    .dataframe thead tr:last-of-type th {\n",
       "        text-align: right;\n",
       "    }\n",
       "</style>\n",
       "<table border=\"1\" class=\"dataframe\">\n",
       "  <thead>\n",
       "    <tr>\n",
       "      <th></th>\n",
       "      <th colspan=\"5\" halign=\"left\">AGG</th>\n",
       "      <th colspan=\"5\" halign=\"left\">SPY</th>\n",
       "    </tr>\n",
       "    <tr>\n",
       "      <th></th>\n",
       "      <th>open</th>\n",
       "      <th>high</th>\n",
       "      <th>low</th>\n",
       "      <th>close</th>\n",
       "      <th>volume</th>\n",
       "      <th>open</th>\n",
       "      <th>high</th>\n",
       "      <th>low</th>\n",
       "      <th>close</th>\n",
       "      <th>volume</th>\n",
       "    </tr>\n",
       "    <tr>\n",
       "      <th>time</th>\n",
       "      <th></th>\n",
       "      <th></th>\n",
       "      <th></th>\n",
       "      <th></th>\n",
       "      <th></th>\n",
       "      <th></th>\n",
       "      <th></th>\n",
       "      <th></th>\n",
       "      <th></th>\n",
       "      <th></th>\n",
       "    </tr>\n",
       "  </thead>\n",
       "  <tbody>\n",
       "    <tr>\n",
       "      <th>2022-01-18 00:00:00-05:00</th>\n",
       "      <td>111.81</td>\n",
       "      <td>111.860</td>\n",
       "      <td>111.470</td>\n",
       "      <td>111.49</td>\n",
       "      <td>7390142.0</td>\n",
       "      <td>459.73</td>\n",
       "      <td>459.96</td>\n",
       "      <td>455.31</td>\n",
       "      <td>456.53</td>\n",
       "      <td>95565773.0</td>\n",
       "    </tr>\n",
       "    <tr>\n",
       "      <th>2022-01-14 00:00:00-05:00</th>\n",
       "      <td>112.53</td>\n",
       "      <td>112.545</td>\n",
       "      <td>112.150</td>\n",
       "      <td>112.17</td>\n",
       "      <td>8362916.0</td>\n",
       "      <td>461.19</td>\n",
       "      <td>465.09</td>\n",
       "      <td>459.90</td>\n",
       "      <td>464.68</td>\n",
       "      <td>84363989.0</td>\n",
       "    </tr>\n",
       "    <tr>\n",
       "      <th>2022-01-13 00:00:00-05:00</th>\n",
       "      <td>112.60</td>\n",
       "      <td>112.800</td>\n",
       "      <td>112.510</td>\n",
       "      <td>112.80</td>\n",
       "      <td>7925476.0</td>\n",
       "      <td>472.21</td>\n",
       "      <td>472.88</td>\n",
       "      <td>463.44</td>\n",
       "      <td>464.54</td>\n",
       "      <td>79071832.0</td>\n",
       "    </tr>\n",
       "    <tr>\n",
       "      <th>2022-01-12 00:00:00-05:00</th>\n",
       "      <td>112.72</td>\n",
       "      <td>112.785</td>\n",
       "      <td>112.580</td>\n",
       "      <td>112.60</td>\n",
       "      <td>6159865.0</td>\n",
       "      <td>471.59</td>\n",
       "      <td>473.20</td>\n",
       "      <td>468.94</td>\n",
       "      <td>471.06</td>\n",
       "      <td>58775301.0</td>\n",
       "    </tr>\n",
       "    <tr>\n",
       "      <th>2022-01-11 00:00:00-05:00</th>\n",
       "      <td>112.33</td>\n",
       "      <td>112.630</td>\n",
       "      <td>112.265</td>\n",
       "      <td>112.61</td>\n",
       "      <td>5723770.0</td>\n",
       "      <td>465.22</td>\n",
       "      <td>469.85</td>\n",
       "      <td>462.05</td>\n",
       "      <td>469.74</td>\n",
       "      <td>63249917.0</td>\n",
       "    </tr>\n",
       "  </tbody>\n",
       "</table>\n",
       "</div>"
      ],
      "text/plain": [
       "                              AGG                                       \\\n",
       "                             open     high      low   close     volume   \n",
       "time                                                                     \n",
       "2022-01-18 00:00:00-05:00  111.81  111.860  111.470  111.49  7390142.0   \n",
       "2022-01-14 00:00:00-05:00  112.53  112.545  112.150  112.17  8362916.0   \n",
       "2022-01-13 00:00:00-05:00  112.60  112.800  112.510  112.80  7925476.0   \n",
       "2022-01-12 00:00:00-05:00  112.72  112.785  112.580  112.60  6159865.0   \n",
       "2022-01-11 00:00:00-05:00  112.33  112.630  112.265  112.61  5723770.0   \n",
       "\n",
       "                              SPY                                      \n",
       "                             open    high     low   close      volume  \n",
       "time                                                                   \n",
       "2022-01-18 00:00:00-05:00  459.73  459.96  455.31  456.53  95565773.0  \n",
       "2022-01-14 00:00:00-05:00  461.19  465.09  459.90  464.68  84363989.0  \n",
       "2022-01-13 00:00:00-05:00  472.21  472.88  463.44  464.54  79071832.0  \n",
       "2022-01-12 00:00:00-05:00  471.59  473.20  468.94  471.06  58775301.0  \n",
       "2022-01-11 00:00:00-05:00  465.22  469.85  462.05  469.74  63249917.0  "
      ]
     },
     "execution_count": 20,
     "metadata": {},
     "output_type": "execute_result"
    }
   ],
   "source": [
    "# Preview DataFrame\n",
    "df_portfolio.sort_index(ascending = False, inplace = True)\n",
    "df_portfolio.head()"
   ]
  },
  {
   "cell_type": "code",
   "execution_count": 21,
   "metadata": {},
   "outputs": [
    {
     "name": "stdout",
     "output_type": "stream",
     "text": [
      "Current AGG closing price: $111.49\n",
      "Current SPY closing price: $456.53\n"
     ]
    }
   ],
   "source": [
    "# Pick AGG and SPY close prices\n",
    "agg_close_price = df_portfolio[\"AGG\"][\"close\"][0]\n",
    "spy_close_price = df_portfolio['SPY']['close'][0]\n",
    "\n",
    "# Print AGG and SPY close prices\n",
    "print(f\"Current AGG closing price: ${agg_close_price}\")\n",
    "print(f\"Current SPY closing price: ${spy_close_price}\")"
   ]
  },
  {
   "cell_type": "code",
   "execution_count": 22,
   "metadata": {},
   "outputs": [
    {
     "name": "stdout",
     "output_type": "stream",
     "text": [
      "The current value of your 50 SPY shares is $22826.50\n",
      "The current value of your 200 AGG shares is $22298.00\n",
      "Total value: $45124.5\n"
     ]
    }
   ],
   "source": [
    "# Compute the current value of shares\n",
    "my_agg_value = my_agg * agg_close_price\n",
    "my_spy_value = my_spy * spy_close_price\n",
    "shares_value = my_spy_value + my_agg_value\n",
    "\n",
    "# Print current value of shares\n",
    "print(f\"The current value of your {my_spy} SPY shares is ${my_spy_value:0.2f}\")\n",
    "print(f\"The current value of your {my_agg} AGG shares is ${my_agg_value:0.2f}\")\n",
    "print(f\"Total value: ${shares_value}\")"
   ]
  },
  {
   "cell_type": "markdown",
   "metadata": {},
   "source": [
    "### Savings Health Analysis"
   ]
  },
  {
   "cell_type": "code",
   "execution_count": 23,
   "metadata": {},
   "outputs": [],
   "source": [
    "# Set monthly household income\n",
    "monthly_income = 12000"
   ]
  },
  {
   "cell_type": "code",
   "execution_count": 24,
   "metadata": {},
   "outputs": [],
   "source": [
    "# Consolidate financial assets data\n",
    "portfolio_values = {\n",
    "    \"amount\": [crypto_value, shares_value]}"
   ]
  },
  {
   "cell_type": "code",
   "execution_count": 25,
   "metadata": {},
   "outputs": [],
   "source": [
    "# Set the asset names\n",
    "types = [\"crypto\", \"shares\"]"
   ]
  },
  {
   "cell_type": "code",
   "execution_count": 26,
   "metadata": {},
   "outputs": [],
   "source": [
    "# Create the shares DataFrame\n",
    "df_savings = pd.DataFrame(portfolio_values, index = types)"
   ]
  },
  {
   "cell_type": "code",
   "execution_count": 27,
   "metadata": {},
   "outputs": [
    {
     "data": {
      "text/html": [
       "<div>\n",
       "<style scoped>\n",
       "    .dataframe tbody tr th:only-of-type {\n",
       "        vertical-align: middle;\n",
       "    }\n",
       "\n",
       "    .dataframe tbody tr th {\n",
       "        vertical-align: top;\n",
       "    }\n",
       "\n",
       "    .dataframe thead th {\n",
       "        text-align: right;\n",
       "    }\n",
       "</style>\n",
       "<table border=\"1\" class=\"dataframe\">\n",
       "  <thead>\n",
       "    <tr style=\"text-align: right;\">\n",
       "      <th></th>\n",
       "      <th>amount</th>\n",
       "    </tr>\n",
       "  </thead>\n",
       "  <tbody>\n",
       "    <tr>\n",
       "      <th>crypto</th>\n",
       "      <td>66982.952</td>\n",
       "    </tr>\n",
       "    <tr>\n",
       "      <th>shares</th>\n",
       "      <td>45124.500</td>\n",
       "    </tr>\n",
       "  </tbody>\n",
       "</table>\n",
       "</div>"
      ],
      "text/plain": [
       "           amount\n",
       "crypto  66982.952\n",
       "shares  45124.500"
      ]
     },
     "metadata": {},
     "output_type": "display_data"
    }
   ],
   "source": [
    "# Display savings DataFrame\n",
    "display(df_savings)"
   ]
  },
  {
   "cell_type": "code",
   "execution_count": 28,
   "metadata": {},
   "outputs": [
    {
     "data": {
      "text/plain": [
       "<AxesSubplot:title={'center':'Savings Portfolio Composition'}, ylabel='amount'>"
      ]
     },
     "execution_count": 28,
     "metadata": {},
     "output_type": "execute_result"
    },
    {
     "data": {
      "image/png": "[encoded data removed]",
      "text/plain": [
       "<Figure size 432x288 with 1 Axes>"
      ]
     },
     "metadata": {},
     "output_type": "display_data"
    }
   ],
   "source": [
    "# Plot savings pie chart\n",
    "df_savings.plot.pie(y=\"amount\", title=\"Savings Portfolio Composition\")"
   ]
  },
  {
   "cell_type": "code",
   "execution_count": 29,
   "metadata": {},
   "outputs": [],
   "source": [
    "# Set ideal emergency fund\n",
    "emergency_fund = monthly_income * 3"
   ]
  },
  {
   "cell_type": "code",
   "execution_count": 30,
   "metadata": {},
   "outputs": [],
   "source": [
    "# Calculate total amount of savings\n",
    "total_savings = crypto_value + shares_value"
   ]
  },
  {
   "cell_type": "code",
   "execution_count": 31,
   "metadata": {},
   "outputs": [],
   "source": [
    "# Use if conditional statements to validate if the current savings are enough for an emergency fund. An ideal emergency fund should be equal to three times your monthly income.\n",
    "def savings(x):\n",
    "    if x>=emergency_fund:\n",
    "        print(f\"Congratulations! Your savings of ${x} are at a level 3x or more than monthly income.\")\n",
    "    else:\n",
    "        print(f\"Whoops! Your savings of ${x} are ${emergency_fund - x} away from meeting 3x monthly income\")"
   ]
  },
  {
   "cell_type": "code",
   "execution_count": 32,
   "metadata": {},
   "outputs": [
    {
     "name": "stdout",
     "output_type": "stream",
     "text": [
      "Congratulations! Your savings of $112107.45199999999 are at a level 3x or more than monthly income.\n"
     ]
    }
   ],
   "source": [
    "# Validate saving health\n",
    "savings(total_savings)"
   ]
  },
  {
   "cell_type": "markdown",
   "metadata": {},
   "source": [
    "## Part 2 - Retirement Planning\n",
    "\n",
    "### Monte Carlo Simulation"
   ]
  },
  {
   "cell_type": "code",
   "execution_count": 33,
   "metadata": {},
   "outputs": [],
   "source": [
    "# Set start and end dates of five years back from today.\n",
    "# Sample results may vary from the solution based on the time frame chosen\n",
    "start_date = pd.Timestamp('2017-01-18', tz='America/New_York').isoformat()\n",
    "today = pd.Timestamp('2022-01-18', tz='America/New_York').isoformat()"
   ]
  },
  {
   "cell_type": "code",
   "execution_count": 34,
   "metadata": {},
   "outputs": [],
   "source": [
    "# Get 5 years' worth of historical data for SPY and AGG\n",
    "# (use a limit=1000 parameter to call the most recent 1000 days of data)\n",
    "df_stock_data = alpaca.get_barset(\n",
    "    tickers,\n",
    "    timeframe,\n",
    "    start = start_date,\n",
    "    end = today,\n",
    "    limit = 1000,\n",
    ").df"
   ]
  },
  {
   "cell_type": "code",
   "execution_count": 35,
   "metadata": {},
   "outputs": [
    {
     "data": {
      "text/html": [
       "<div>\n",
       "<style scoped>\n",
       "    .dataframe tbody tr th:only-of-type {\n",
       "        vertical-align: middle;\n",
       "    }\n",
       "\n",
       "    .dataframe tbody tr th {\n",
       "        vertical-align: top;\n",
       "    }\n",
       "\n",
       "    .dataframe thead tr th {\n",
       "        text-align: left;\n",
       "    }\n",
       "\n",
       "    .dataframe thead tr:last-of-type th {\n",
       "        text-align: right;\n",
       "    }\n",
       "</style>\n",
       "<table border=\"1\" class=\"dataframe\">\n",
       "  <thead>\n",
       "    <tr>\n",
       "      <th></th>\n",
       "      <th colspan=\"5\" halign=\"left\">AGG</th>\n",
       "      <th colspan=\"5\" halign=\"left\">SPY</th>\n",
       "    </tr>\n",
       "    <tr>\n",
       "      <th></th>\n",
       "      <th>open</th>\n",
       "      <th>high</th>\n",
       "      <th>low</th>\n",
       "      <th>close</th>\n",
       "      <th>volume</th>\n",
       "      <th>open</th>\n",
       "      <th>high</th>\n",
       "      <th>low</th>\n",
       "      <th>close</th>\n",
       "      <th>volume</th>\n",
       "    </tr>\n",
       "    <tr>\n",
       "      <th>time</th>\n",
       "      <th></th>\n",
       "      <th></th>\n",
       "      <th></th>\n",
       "      <th></th>\n",
       "      <th></th>\n",
       "      <th></th>\n",
       "      <th></th>\n",
       "      <th></th>\n",
       "      <th></th>\n",
       "      <th></th>\n",
       "    </tr>\n",
       "  </thead>\n",
       "  <tbody>\n",
       "    <tr>\n",
       "      <th>2018-01-29 00:00:00-05:00</th>\n",
       "      <td>108.14</td>\n",
       "      <td>108.210</td>\n",
       "      <td>108.02</td>\n",
       "      <td>108.190</td>\n",
       "      <td>3532887.0</td>\n",
       "      <td>NaN</td>\n",
       "      <td>NaN</td>\n",
       "      <td>NaN</td>\n",
       "      <td>NaN</td>\n",
       "      <td>NaN</td>\n",
       "    </tr>\n",
       "    <tr>\n",
       "      <th>2018-01-30 00:00:00-05:00</th>\n",
       "      <td>108.12</td>\n",
       "      <td>108.120</td>\n",
       "      <td>107.92</td>\n",
       "      <td>108.005</td>\n",
       "      <td>2965870.0</td>\n",
       "      <td>282.59</td>\n",
       "      <td>283.29</td>\n",
       "      <td>281.22</td>\n",
       "      <td>281.66</td>\n",
       "      <td>86366361.0</td>\n",
       "    </tr>\n",
       "    <tr>\n",
       "      <th>2018-01-31 00:00:00-05:00</th>\n",
       "      <td>108.20</td>\n",
       "      <td>108.210</td>\n",
       "      <td>107.88</td>\n",
       "      <td>108.090</td>\n",
       "      <td>5729791.0</td>\n",
       "      <td>282.73</td>\n",
       "      <td>283.30</td>\n",
       "      <td>280.68</td>\n",
       "      <td>281.91</td>\n",
       "      <td>76360186.0</td>\n",
       "    </tr>\n",
       "    <tr>\n",
       "      <th>2018-02-01 00:00:00-05:00</th>\n",
       "      <td>107.75</td>\n",
       "      <td>107.825</td>\n",
       "      <td>107.48</td>\n",
       "      <td>107.490</td>\n",
       "      <td>8569565.0</td>\n",
       "      <td>281.04</td>\n",
       "      <td>283.06</td>\n",
       "      <td>280.68</td>\n",
       "      <td>281.60</td>\n",
       "      <td>64693558.0</td>\n",
       "    </tr>\n",
       "    <tr>\n",
       "      <th>2018-02-02 00:00:00-05:00</th>\n",
       "      <td>107.25</td>\n",
       "      <td>107.345</td>\n",
       "      <td>107.10</td>\n",
       "      <td>107.200</td>\n",
       "      <td>4266243.0</td>\n",
       "      <td>280.08</td>\n",
       "      <td>280.23</td>\n",
       "      <td>275.41</td>\n",
       "      <td>275.52</td>\n",
       "      <td>121717871.0</td>\n",
       "    </tr>\n",
       "  </tbody>\n",
       "</table>\n",
       "</div>"
      ],
      "text/plain": [
       "                              AGG                                       \\\n",
       "                             open     high     low    close     volume   \n",
       "time                                                                     \n",
       "2018-01-29 00:00:00-05:00  108.14  108.210  108.02  108.190  3532887.0   \n",
       "2018-01-30 00:00:00-05:00  108.12  108.120  107.92  108.005  2965870.0   \n",
       "2018-01-31 00:00:00-05:00  108.20  108.210  107.88  108.090  5729791.0   \n",
       "2018-02-01 00:00:00-05:00  107.75  107.825  107.48  107.490  8569565.0   \n",
       "2018-02-02 00:00:00-05:00  107.25  107.345  107.10  107.200  4266243.0   \n",
       "\n",
       "                              SPY                                       \n",
       "                             open    high     low   close       volume  \n",
       "time                                                                    \n",
       "2018-01-29 00:00:00-05:00     NaN     NaN     NaN     NaN          NaN  \n",
       "2018-01-30 00:00:00-05:00  282.59  283.29  281.22  281.66   86366361.0  \n",
       "2018-01-31 00:00:00-05:00  282.73  283.30  280.68  281.91   76360186.0  \n",
       "2018-02-01 00:00:00-05:00  281.04  283.06  280.68  281.60   64693558.0  \n",
       "2018-02-02 00:00:00-05:00  280.08  280.23  275.41  275.52  121717871.0  "
      ]
     },
     "execution_count": 35,
     "metadata": {},
     "output_type": "execute_result"
    }
   ],
   "source": [
    "# Display sample data\n",
    "df_stock_data.head()"
   ]
  },
  {
   "cell_type": "code",
   "execution_count": 36,
   "metadata": {},
   "outputs": [
    {
     "data": {
      "text/plain": [
       "\u001b[0;31mInit signature:\u001b[0m\n",
       "\u001b[0mMCSimulation\u001b[0m\u001b[0;34m(\u001b[0m\u001b[0;34m\u001b[0m\n",
       "\u001b[0;34m\u001b[0m    \u001b[0mportfolio_data\u001b[0m\u001b[0;34m,\u001b[0m\u001b[0;34m\u001b[0m\n",
       "\u001b[0;34m\u001b[0m    \u001b[0mweights\u001b[0m\u001b[0;34m=\u001b[0m\u001b[0;34m''\u001b[0m\u001b[0;34m,\u001b[0m\u001b[0;34m\u001b[0m\n",
       "\u001b[0;34m\u001b[0m    \u001b[0mnum_simulation\u001b[0m\u001b[0;34m=\u001b[0m\u001b[0;36m1000\u001b[0m\u001b[0;34m,\u001b[0m\u001b[0;34m\u001b[0m\n",
       "\u001b[0;34m\u001b[0m    \u001b[0mnum_trading_days\u001b[0m\u001b[0;34m=\u001b[0m\u001b[0;36m252\u001b[0m\u001b[0;34m,\u001b[0m\u001b[0;34m\u001b[0m\n",
       "\u001b[0;34m\u001b[0m\u001b[0;34m)\u001b[0m\u001b[0;34m\u001b[0m\u001b[0;34m\u001b[0m\u001b[0m\n",
       "\u001b[0;31mDocstring:\u001b[0m     \n",
       "A Python class for runnning Monte Carlo simulation on portfolio price data. \n",
       "\n",
       "...\n",
       "\n",
       "Attributes\n",
       "----------\n",
       "portfolio_data : pandas.DataFrame\n",
       "    portfolio dataframe\n",
       "weights: list(float)\n",
       "    portfolio investment breakdown\n",
       "nSim: int\n",
       "    number of samples in simulation\n",
       "nTrading: int\n",
       "    number of trading days to simulate\n",
       "simulated_return : pandas.DataFrame\n",
       "    Simulated data from Monte Carlo\n",
       "confidence_interval : pandas.Series\n",
       "    the 95% confidence intervals for simulated final cumulative returns\n",
       "    \n",
       "\u001b[0;31mInit docstring:\u001b[0m\n",
       "Constructs all the necessary attributes for the MCSimulation object.\n",
       "\n",
       "Parameters\n",
       "----------\n",
       "portfolio_data: pandas.DataFrame\n",
       "    DataFrame containing stock price information from Alpaca API\n",
       "weights: list(float)\n",
       "    A list fractions representing percentage of total investment per stock. DEFAULT: Equal distribution\n",
       "num_simulation: int\n",
       "    Number of simulation samples. DEFAULT: 1000 simulation samples\n",
       "num_trading_days: int\n",
       "    Number of trading days to simulate. DEFAULT: 252 days (1 year of business days)\n",
       "\u001b[0;31mFile:\u001b[0m           ~/Desktop/FinTech/financial-planning/MCForecastTools.py\n",
       "\u001b[0;31mType:\u001b[0m           type\n",
       "\u001b[0;31mSubclasses:\u001b[0m     \n"
      ]
     },
     "metadata": {},
     "output_type": "display_data"
    }
   ],
   "source": [
    "# Print the documentation of the MCSimulation module of the MCForecastTools library\n",
    "?MCSimulation"
   ]
  },
  {
   "cell_type": "code",
   "execution_count": 37,
   "metadata": {},
   "outputs": [],
   "source": [
    "# Configuring a Monte Carlo simulation to forecast 30 years cumulative returns\n",
    "MC_30_year = MCSimulation(\n",
    "    portfolio_data = df_stock_data,\n",
    "    weights = [.40,.60],\n",
    "    num_simulation = 500,\n",
    "    num_trading_days = 252*30\n",
    ")"
   ]
  },
  {
   "cell_type": "code",
   "execution_count": 38,
   "metadata": {},
   "outputs": [
    {
     "data": {
      "text/html": [
       "<div>\n",
       "<style scoped>\n",
       "    .dataframe tbody tr th:only-of-type {\n",
       "        vertical-align: middle;\n",
       "    }\n",
       "\n",
       "    .dataframe tbody tr th {\n",
       "        vertical-align: top;\n",
       "    }\n",
       "\n",
       "    .dataframe thead tr th {\n",
       "        text-align: left;\n",
       "    }\n",
       "\n",
       "    .dataframe thead tr:last-of-type th {\n",
       "        text-align: right;\n",
       "    }\n",
       "</style>\n",
       "<table border=\"1\" class=\"dataframe\">\n",
       "  <thead>\n",
       "    <tr>\n",
       "      <th></th>\n",
       "      <th colspan=\"6\" halign=\"left\">AGG</th>\n",
       "      <th colspan=\"6\" halign=\"left\">SPY</th>\n",
       "    </tr>\n",
       "    <tr>\n",
       "      <th></th>\n",
       "      <th>open</th>\n",
       "      <th>high</th>\n",
       "      <th>low</th>\n",
       "      <th>close</th>\n",
       "      <th>volume</th>\n",
       "      <th>daily_return</th>\n",
       "      <th>open</th>\n",
       "      <th>high</th>\n",
       "      <th>low</th>\n",
       "      <th>close</th>\n",
       "      <th>volume</th>\n",
       "      <th>daily_return</th>\n",
       "    </tr>\n",
       "    <tr>\n",
       "      <th>time</th>\n",
       "      <th></th>\n",
       "      <th></th>\n",
       "      <th></th>\n",
       "      <th></th>\n",
       "      <th></th>\n",
       "      <th></th>\n",
       "      <th></th>\n",
       "      <th></th>\n",
       "      <th></th>\n",
       "      <th></th>\n",
       "      <th></th>\n",
       "      <th></th>\n",
       "    </tr>\n",
       "  </thead>\n",
       "  <tbody>\n",
       "    <tr>\n",
       "      <th>2018-01-29 00:00:00-05:00</th>\n",
       "      <td>108.14</td>\n",
       "      <td>108.210</td>\n",
       "      <td>108.02</td>\n",
       "      <td>108.190</td>\n",
       "      <td>3532887.0</td>\n",
       "      <td>NaN</td>\n",
       "      <td>NaN</td>\n",
       "      <td>NaN</td>\n",
       "      <td>NaN</td>\n",
       "      <td>NaN</td>\n",
       "      <td>NaN</td>\n",
       "      <td>NaN</td>\n",
       "    </tr>\n",
       "    <tr>\n",
       "      <th>2018-01-30 00:00:00-05:00</th>\n",
       "      <td>108.12</td>\n",
       "      <td>108.120</td>\n",
       "      <td>107.92</td>\n",
       "      <td>108.005</td>\n",
       "      <td>2965870.0</td>\n",
       "      <td>-0.001710</td>\n",
       "      <td>282.59</td>\n",
       "      <td>283.29</td>\n",
       "      <td>281.22</td>\n",
       "      <td>281.66</td>\n",
       "      <td>86366361.0</td>\n",
       "      <td>NaN</td>\n",
       "    </tr>\n",
       "    <tr>\n",
       "      <th>2018-01-31 00:00:00-05:00</th>\n",
       "      <td>108.20</td>\n",
       "      <td>108.210</td>\n",
       "      <td>107.88</td>\n",
       "      <td>108.090</td>\n",
       "      <td>5729791.0</td>\n",
       "      <td>0.000787</td>\n",
       "      <td>282.73</td>\n",
       "      <td>283.30</td>\n",
       "      <td>280.68</td>\n",
       "      <td>281.91</td>\n",
       "      <td>76360186.0</td>\n",
       "      <td>0.000888</td>\n",
       "    </tr>\n",
       "    <tr>\n",
       "      <th>2018-02-01 00:00:00-05:00</th>\n",
       "      <td>107.75</td>\n",
       "      <td>107.825</td>\n",
       "      <td>107.48</td>\n",
       "      <td>107.490</td>\n",
       "      <td>8569565.0</td>\n",
       "      <td>-0.005551</td>\n",
       "      <td>281.04</td>\n",
       "      <td>283.06</td>\n",
       "      <td>280.68</td>\n",
       "      <td>281.60</td>\n",
       "      <td>64693558.0</td>\n",
       "      <td>-0.001100</td>\n",
       "    </tr>\n",
       "    <tr>\n",
       "      <th>2018-02-02 00:00:00-05:00</th>\n",
       "      <td>107.25</td>\n",
       "      <td>107.345</td>\n",
       "      <td>107.10</td>\n",
       "      <td>107.200</td>\n",
       "      <td>4266243.0</td>\n",
       "      <td>-0.002698</td>\n",
       "      <td>280.08</td>\n",
       "      <td>280.23</td>\n",
       "      <td>275.41</td>\n",
       "      <td>275.52</td>\n",
       "      <td>121717871.0</td>\n",
       "      <td>-0.021591</td>\n",
       "    </tr>\n",
       "  </tbody>\n",
       "</table>\n",
       "</div>"
      ],
      "text/plain": [
       "                              AGG                                       \\\n",
       "                             open     high     low    close     volume   \n",
       "time                                                                     \n",
       "2018-01-29 00:00:00-05:00  108.14  108.210  108.02  108.190  3532887.0   \n",
       "2018-01-30 00:00:00-05:00  108.12  108.120  107.92  108.005  2965870.0   \n",
       "2018-01-31 00:00:00-05:00  108.20  108.210  107.88  108.090  5729791.0   \n",
       "2018-02-01 00:00:00-05:00  107.75  107.825  107.48  107.490  8569565.0   \n",
       "2018-02-02 00:00:00-05:00  107.25  107.345  107.10  107.200  4266243.0   \n",
       "\n",
       "                                           SPY                          \\\n",
       "                          daily_return    open    high     low   close   \n",
       "time                                                                     \n",
       "2018-01-29 00:00:00-05:00          NaN     NaN     NaN     NaN     NaN   \n",
       "2018-01-30 00:00:00-05:00    -0.001710  282.59  283.29  281.22  281.66   \n",
       "2018-01-31 00:00:00-05:00     0.000787  282.73  283.30  280.68  281.91   \n",
       "2018-02-01 00:00:00-05:00    -0.005551  281.04  283.06  280.68  281.60   \n",
       "2018-02-02 00:00:00-05:00    -0.002698  280.08  280.23  275.41  275.52   \n",
       "\n",
       "                                                     \n",
       "                                volume daily_return  \n",
       "time                                                 \n",
       "2018-01-29 00:00:00-05:00          NaN          NaN  \n",
       "2018-01-30 00:00:00-05:00   86366361.0          NaN  \n",
       "2018-01-31 00:00:00-05:00   76360186.0     0.000888  \n",
       "2018-02-01 00:00:00-05:00   64693558.0    -0.001100  \n",
       "2018-02-02 00:00:00-05:00  121717871.0    -0.021591  "
      ]
     },
     "execution_count": 38,
     "metadata": {},
     "output_type": "execute_result"
    }
   ],
   "source": [
    "# Printing the simulation input data\n",
    "MC_30_year.portfolio_data.head()"
   ]
  },
  {
   "cell_type": "code",
   "execution_count": 39,
   "metadata": {},
   "outputs": [
    {
     "name": "stdout",
     "output_type": "stream",
     "text": [
      "Running Monte Carlo simulation number 0.\n",
      "Running Monte Carlo simulation number 10.\n",
      "Running Monte Carlo simulation number 20.\n",
      "Running Monte Carlo simulation number 30.\n",
      "Running Monte Carlo simulation number 40.\n",
      "Running Monte Carlo simulation number 50.\n",
      "Running Monte Carlo simulation number 60.\n",
      "Running Monte Carlo simulation number 70.\n",
      "Running Monte Carlo simulation number 80.\n",
      "Running Monte Carlo simulation number 90.\n",
      "Running Monte Carlo simulation number 100.\n"
     ]
    },
    {
     "name": "stderr",
     "output_type": "stream",
     "text": [
      "/Users/joseph/Desktop/FinTech/financial-planning/MCForecastTools.py:117: PerformanceWarning: DataFrame is highly fragmented.  This is usually the result of calling `frame.insert` many times, which has poor performance.  Consider joining all columns at once using pd.concat(axis=1) instead.  To get a de-fragmented frame, use `newframe = frame.copy()`\n",
      "  portfolio_cumulative_returns[n] = (1 + sim_df.fillna(0)).cumprod()\n"
     ]
    },
    {
     "name": "stdout",
     "output_type": "stream",
     "text": [
      "Running Monte Carlo simulation number 110.\n",
      "Running Monte Carlo simulation number 120.\n",
      "Running Monte Carlo simulation number 130.\n",
      "Running Monte Carlo simulation number 140.\n",
      "Running Monte Carlo simulation number 150.\n",
      "Running Monte Carlo simulation number 160.\n",
      "Running Monte Carlo simulation number 170.\n",
      "Running Monte Carlo simulation number 180.\n",
      "Running Monte Carlo simulation number 190.\n",
      "Running Monte Carlo simulation number 200.\n",
      "Running Monte Carlo simulation number 210.\n",
      "Running Monte Carlo simulation number 220.\n",
      "Running Monte Carlo simulation number 230.\n",
      "Running Monte Carlo simulation number 240.\n",
      "Running Monte Carlo simulation number 250.\n",
      "Running Monte Carlo simulation number 260.\n",
      "Running Monte Carlo simulation number 270.\n",
      "Running Monte Carlo simulation number 280.\n",
      "Running Monte Carlo simulation number 290.\n",
      "Running Monte Carlo simulation number 300.\n",
      "Running Monte Carlo simulation number 310.\n",
      "Running Monte Carlo simulation number 320.\n",
      "Running Monte Carlo simulation number 330.\n",
      "Running Monte Carlo simulation number 340.\n",
      "Running Monte Carlo simulation number 350.\n",
      "Running Monte Carlo simulation number 360.\n",
      "Running Monte Carlo simulation number 370.\n",
      "Running Monte Carlo simulation number 380.\n",
      "Running Monte Carlo simulation number 390.\n",
      "Running Monte Carlo simulation number 400.\n",
      "Running Monte Carlo simulation number 410.\n",
      "Running Monte Carlo simulation number 420.\n",
      "Running Monte Carlo simulation number 430.\n",
      "Running Monte Carlo simulation number 440.\n",
      "Running Monte Carlo simulation number 450.\n",
      "Running Monte Carlo simulation number 460.\n",
      "Running Monte Carlo simulation number 470.\n",
      "Running Monte Carlo simulation number 480.\n",
      "Running Monte Carlo simulation number 490.\n"
     ]
    },
    {
     "data": {
      "text/html": [
       "<div>\n",
       "<style scoped>\n",
       "    .dataframe tbody tr th:only-of-type {\n",
       "        vertical-align: middle;\n",
       "    }\n",
       "\n",
       "    .dataframe tbody tr th {\n",
       "        vertical-align: top;\n",
       "    }\n",
       "\n",
       "    .dataframe thead th {\n",
       "        text-align: right;\n",
       "    }\n",
       "</style>\n",
       "<table border=\"1\" class=\"dataframe\">\n",
       "  <thead>\n",
       "    <tr style=\"text-align: right;\">\n",
       "      <th></th>\n",
       "      <th>0</th>\n",
       "      <th>1</th>\n",
       "      <th>2</th>\n",
       "      <th>3</th>\n",
       "      <th>4</th>\n",
       "      <th>5</th>\n",
       "      <th>6</th>\n",
       "      <th>7</th>\n",
       "      <th>8</th>\n",
       "      <th>9</th>\n",
       "      <th>...</th>\n",
       "      <th>490</th>\n",
       "      <th>491</th>\n",
       "      <th>492</th>\n",
       "      <th>493</th>\n",
       "      <th>494</th>\n",
       "      <th>495</th>\n",
       "      <th>496</th>\n",
       "      <th>497</th>\n",
       "      <th>498</th>\n",
       "      <th>499</th>\n",
       "    </tr>\n",
       "  </thead>\n",
       "  <tbody>\n",
       "    <tr>\n",
       "      <th>0</th>\n",
       "      <td>1.000000</td>\n",
       "      <td>1.000000</td>\n",
       "      <td>1.000000</td>\n",
       "      <td>1.000000</td>\n",
       "      <td>1.000000</td>\n",
       "      <td>1.000000</td>\n",
       "      <td>1.000000</td>\n",
       "      <td>1.000000</td>\n",
       "      <td>1.000000</td>\n",
       "      <td>1.000000</td>\n",
       "      <td>...</td>\n",
       "      <td>1.000000</td>\n",
       "      <td>1.000000</td>\n",
       "      <td>1.000000</td>\n",
       "      <td>1.000000</td>\n",
       "      <td>1.000000</td>\n",
       "      <td>1.000000</td>\n",
       "      <td>1.000000</td>\n",
       "      <td>1.000000</td>\n",
       "      <td>1.000000</td>\n",
       "      <td>1.000000</td>\n",
       "    </tr>\n",
       "    <tr>\n",
       "      <th>1</th>\n",
       "      <td>1.009516</td>\n",
       "      <td>0.982023</td>\n",
       "      <td>0.991992</td>\n",
       "      <td>1.010782</td>\n",
       "      <td>1.004445</td>\n",
       "      <td>1.006053</td>\n",
       "      <td>0.983267</td>\n",
       "      <td>1.006240</td>\n",
       "      <td>0.987050</td>\n",
       "      <td>1.010142</td>\n",
       "      <td>...</td>\n",
       "      <td>1.013594</td>\n",
       "      <td>0.982852</td>\n",
       "      <td>1.007633</td>\n",
       "      <td>0.992019</td>\n",
       "      <td>0.987361</td>\n",
       "      <td>0.991561</td>\n",
       "      <td>0.995850</td>\n",
       "      <td>0.981257</td>\n",
       "      <td>1.009568</td>\n",
       "      <td>1.021224</td>\n",
       "    </tr>\n",
       "    <tr>\n",
       "      <th>2</th>\n",
       "      <td>1.021624</td>\n",
       "      <td>0.986404</td>\n",
       "      <td>0.987392</td>\n",
       "      <td>1.003480</td>\n",
       "      <td>1.015421</td>\n",
       "      <td>0.999025</td>\n",
       "      <td>0.971613</td>\n",
       "      <td>1.000456</td>\n",
       "      <td>0.991151</td>\n",
       "      <td>1.000932</td>\n",
       "      <td>...</td>\n",
       "      <td>1.009571</td>\n",
       "      <td>0.984904</td>\n",
       "      <td>0.995539</td>\n",
       "      <td>0.999226</td>\n",
       "      <td>0.970354</td>\n",
       "      <td>0.991939</td>\n",
       "      <td>0.992391</td>\n",
       "      <td>0.984795</td>\n",
       "      <td>1.005455</td>\n",
       "      <td>1.036693</td>\n",
       "    </tr>\n",
       "    <tr>\n",
       "      <th>3</th>\n",
       "      <td>1.024579</td>\n",
       "      <td>1.006072</td>\n",
       "      <td>0.985872</td>\n",
       "      <td>0.992893</td>\n",
       "      <td>1.016550</td>\n",
       "      <td>1.011556</td>\n",
       "      <td>0.960623</td>\n",
       "      <td>1.019166</td>\n",
       "      <td>0.986423</td>\n",
       "      <td>1.004062</td>\n",
       "      <td>...</td>\n",
       "      <td>1.012646</td>\n",
       "      <td>0.999264</td>\n",
       "      <td>0.998250</td>\n",
       "      <td>0.994997</td>\n",
       "      <td>0.966028</td>\n",
       "      <td>0.977399</td>\n",
       "      <td>0.985674</td>\n",
       "      <td>0.979333</td>\n",
       "      <td>1.015378</td>\n",
       "      <td>1.044326</td>\n",
       "    </tr>\n",
       "    <tr>\n",
       "      <th>4</th>\n",
       "      <td>1.039137</td>\n",
       "      <td>1.000766</td>\n",
       "      <td>0.991421</td>\n",
       "      <td>0.992240</td>\n",
       "      <td>1.015508</td>\n",
       "      <td>1.007559</td>\n",
       "      <td>0.950912</td>\n",
       "      <td>1.021838</td>\n",
       "      <td>0.991725</td>\n",
       "      <td>1.002794</td>\n",
       "      <td>...</td>\n",
       "      <td>1.012870</td>\n",
       "      <td>1.005496</td>\n",
       "      <td>0.999844</td>\n",
       "      <td>0.995230</td>\n",
       "      <td>0.974695</td>\n",
       "      <td>0.970123</td>\n",
       "      <td>0.990072</td>\n",
       "      <td>0.977437</td>\n",
       "      <td>1.017713</td>\n",
       "      <td>1.051159</td>\n",
       "    </tr>\n",
       "    <tr>\n",
       "      <th>...</th>\n",
       "      <td>...</td>\n",
       "      <td>...</td>\n",
       "      <td>...</td>\n",
       "      <td>...</td>\n",
       "      <td>...</td>\n",
       "      <td>...</td>\n",
       "      <td>...</td>\n",
       "      <td>...</td>\n",
       "      <td>...</td>\n",
       "      <td>...</td>\n",
       "      <td>...</td>\n",
       "      <td>...</td>\n",
       "      <td>...</td>\n",
       "      <td>...</td>\n",
       "      <td>...</td>\n",
       "      <td>...</td>\n",
       "      <td>...</td>\n",
       "      <td>...</td>\n",
       "      <td>...</td>\n",
       "      <td>...</td>\n",
       "      <td>...</td>\n",
       "    </tr>\n",
       "    <tr>\n",
       "      <th>7556</th>\n",
       "      <td>6.584976</td>\n",
       "      <td>11.673782</td>\n",
       "      <td>12.220002</td>\n",
       "      <td>14.618548</td>\n",
       "      <td>7.064716</td>\n",
       "      <td>15.865960</td>\n",
       "      <td>5.869413</td>\n",
       "      <td>13.111372</td>\n",
       "      <td>13.827796</td>\n",
       "      <td>30.858642</td>\n",
       "      <td>...</td>\n",
       "      <td>62.841983</td>\n",
       "      <td>8.659224</td>\n",
       "      <td>43.236373</td>\n",
       "      <td>10.187845</td>\n",
       "      <td>24.921201</td>\n",
       "      <td>14.034390</td>\n",
       "      <td>4.170931</td>\n",
       "      <td>22.035282</td>\n",
       "      <td>8.886745</td>\n",
       "      <td>21.367348</td>\n",
       "    </tr>\n",
       "    <tr>\n",
       "      <th>7557</th>\n",
       "      <td>6.632768</td>\n",
       "      <td>11.569554</td>\n",
       "      <td>12.228294</td>\n",
       "      <td>14.425443</td>\n",
       "      <td>7.150602</td>\n",
       "      <td>15.753260</td>\n",
       "      <td>5.870857</td>\n",
       "      <td>12.967599</td>\n",
       "      <td>13.674627</td>\n",
       "      <td>31.024548</td>\n",
       "      <td>...</td>\n",
       "      <td>62.720540</td>\n",
       "      <td>8.693354</td>\n",
       "      <td>43.738771</td>\n",
       "      <td>10.210583</td>\n",
       "      <td>24.690728</td>\n",
       "      <td>13.928827</td>\n",
       "      <td>4.192651</td>\n",
       "      <td>21.994170</td>\n",
       "      <td>8.837821</td>\n",
       "      <td>21.467800</td>\n",
       "    </tr>\n",
       "    <tr>\n",
       "      <th>7558</th>\n",
       "      <td>6.724418</td>\n",
       "      <td>11.505858</td>\n",
       "      <td>12.113628</td>\n",
       "      <td>14.532451</td>\n",
       "      <td>7.143289</td>\n",
       "      <td>15.695195</td>\n",
       "      <td>5.844205</td>\n",
       "      <td>12.922707</td>\n",
       "      <td>13.745047</td>\n",
       "      <td>30.859423</td>\n",
       "      <td>...</td>\n",
       "      <td>62.660768</td>\n",
       "      <td>8.678945</td>\n",
       "      <td>43.960356</td>\n",
       "      <td>10.238352</td>\n",
       "      <td>24.907621</td>\n",
       "      <td>14.054039</td>\n",
       "      <td>4.259970</td>\n",
       "      <td>22.163139</td>\n",
       "      <td>8.985808</td>\n",
       "      <td>21.085130</td>\n",
       "    </tr>\n",
       "    <tr>\n",
       "      <th>7559</th>\n",
       "      <td>6.584687</td>\n",
       "      <td>11.638297</td>\n",
       "      <td>12.239302</td>\n",
       "      <td>14.574189</td>\n",
       "      <td>7.160373</td>\n",
       "      <td>15.592712</td>\n",
       "      <td>5.807670</td>\n",
       "      <td>12.817188</td>\n",
       "      <td>13.738926</td>\n",
       "      <td>30.863619</td>\n",
       "      <td>...</td>\n",
       "      <td>63.724587</td>\n",
       "      <td>8.648269</td>\n",
       "      <td>44.429457</td>\n",
       "      <td>10.179075</td>\n",
       "      <td>24.344993</td>\n",
       "      <td>14.090927</td>\n",
       "      <td>4.247977</td>\n",
       "      <td>22.192468</td>\n",
       "      <td>8.998894</td>\n",
       "      <td>21.116809</td>\n",
       "    </tr>\n",
       "    <tr>\n",
       "      <th>7560</th>\n",
       "      <td>6.604087</td>\n",
       "      <td>11.772338</td>\n",
       "      <td>12.254338</td>\n",
       "      <td>14.693796</td>\n",
       "      <td>7.084409</td>\n",
       "      <td>15.484734</td>\n",
       "      <td>5.802270</td>\n",
       "      <td>12.933480</td>\n",
       "      <td>13.686896</td>\n",
       "      <td>30.752838</td>\n",
       "      <td>...</td>\n",
       "      <td>64.348384</td>\n",
       "      <td>8.707536</td>\n",
       "      <td>45.342145</td>\n",
       "      <td>10.244818</td>\n",
       "      <td>24.318498</td>\n",
       "      <td>13.971559</td>\n",
       "      <td>4.261165</td>\n",
       "      <td>21.989850</td>\n",
       "      <td>8.875641</td>\n",
       "      <td>21.212418</td>\n",
       "    </tr>\n",
       "  </tbody>\n",
       "</table>\n",
       "<p>7561 rows × 500 columns</p>\n",
       "</div>"
      ],
      "text/plain": [
       "           0          1          2          3         4          5    \\\n",
       "0     1.000000   1.000000   1.000000   1.000000  1.000000   1.000000   \n",
       "1     1.009516   0.982023   0.991992   1.010782  1.004445   1.006053   \n",
       "2     1.021624   0.986404   0.987392   1.003480  1.015421   0.999025   \n",
       "3     1.024579   1.006072   0.985872   0.992893  1.016550   1.011556   \n",
       "4     1.039137   1.000766   0.991421   0.992240  1.015508   1.007559   \n",
       "...        ...        ...        ...        ...       ...        ...   \n",
       "7556  6.584976  11.673782  12.220002  14.618548  7.064716  15.865960   \n",
       "7557  6.632768  11.569554  12.228294  14.425443  7.150602  15.753260   \n",
       "7558  6.724418  11.505858  12.113628  14.532451  7.143289  15.695195   \n",
       "7559  6.584687  11.638297  12.239302  14.574189  7.160373  15.592712   \n",
       "7560  6.604087  11.772338  12.254338  14.693796  7.084409  15.484734   \n",
       "\n",
       "           6          7          8          9    ...        490       491  \\\n",
       "0     1.000000   1.000000   1.000000   1.000000  ...   1.000000  1.000000   \n",
       "1     0.983267   1.006240   0.987050   1.010142  ...   1.013594  0.982852   \n",
       "2     0.971613   1.000456   0.991151   1.000932  ...   1.009571  0.984904   \n",
       "3     0.960623   1.019166   0.986423   1.004062  ...   1.012646  0.999264   \n",
       "4     0.950912   1.021838   0.991725   1.002794  ...   1.012870  1.005496   \n",
       "...        ...        ...        ...        ...  ...        ...       ...   \n",
       "7556  5.869413  13.111372  13.827796  30.858642  ...  62.841983  8.659224   \n",
       "7557  5.870857  12.967599  13.674627  31.024548  ...  62.720540  8.693354   \n",
       "7558  5.844205  12.922707  13.745047  30.859423  ...  62.660768  8.678945   \n",
       "7559  5.807670  12.817188  13.738926  30.863619  ...  63.724587  8.648269   \n",
       "7560  5.802270  12.933480  13.686896  30.752838  ...  64.348384  8.707536   \n",
       "\n",
       "            492        493        494        495       496        497  \\\n",
       "0      1.000000   1.000000   1.000000   1.000000  1.000000   1.000000   \n",
       "1      1.007633   0.992019   0.987361   0.991561  0.995850   0.981257   \n",
       "2      0.995539   0.999226   0.970354   0.991939  0.992391   0.984795   \n",
       "3      0.998250   0.994997   0.966028   0.977399  0.985674   0.979333   \n",
       "4      0.999844   0.995230   0.974695   0.970123  0.990072   0.977437   \n",
       "...         ...        ...        ...        ...       ...        ...   \n",
       "7556  43.236373  10.187845  24.921201  14.034390  4.170931  22.035282   \n",
       "7557  43.738771  10.210583  24.690728  13.928827  4.192651  21.994170   \n",
       "7558  43.960356  10.238352  24.907621  14.054039  4.259970  22.163139   \n",
       "7559  44.429457  10.179075  24.344993  14.090927  4.247977  22.192468   \n",
       "7560  45.342145  10.244818  24.318498  13.971559  4.261165  21.989850   \n",
       "\n",
       "           498        499  \n",
       "0     1.000000   1.000000  \n",
       "1     1.009568   1.021224  \n",
       "2     1.005455   1.036693  \n",
       "3     1.015378   1.044326  \n",
       "4     1.017713   1.051159  \n",
       "...        ...        ...  \n",
       "7556  8.886745  21.367348  \n",
       "7557  8.837821  21.467800  \n",
       "7558  8.985808  21.085130  \n",
       "7559  8.998894  21.116809  \n",
       "7560  8.875641  21.212418  \n",
       "\n",
       "[7561 rows x 500 columns]"
      ]
     },
     "execution_count": 39,
     "metadata": {},
     "output_type": "execute_result"
    }
   ],
   "source": [
    "# Running a Monte Carlo simulation to forecast 30 years cumulative returns\n",
    "MC_30_year.calc_cumulative_return()"
   ]
  },
  {
   "cell_type": "code",
   "execution_count": 45,
   "metadata": {},
   "outputs": [
    {
     "data": {
      "image/png": "[encoded data removed]",
      "text/plain": [
       "<Figure size 432x288 with 1 Axes>"
      ]
     },
     "metadata": {
      "needs_background": "light"
     },
     "output_type": "display_data"
    }
   ],
   "source": [
    "# Plot simulation outcomes\n",
    "line_plot = MC_30_year.plot_simulation()"
   ]
  },
  {
   "cell_type": "code",
   "execution_count": 47,
   "metadata": {},
   "outputs": [
    {
     "data": {
      "image/png": "[encoded data removed]",
      "text/plain": [
       "<Figure size 432x288 with 1 Axes>"
      ]
     },
     "metadata": {
      "needs_background": "light"
     },
     "output_type": "display_data"
    }
   ],
   "source": [
    "# Plot probability distribution and confidence intervals\n",
    "dist_plot = MC_30_year.plot_distribution()"
   ]
  },
  {
   "cell_type": "markdown",
   "metadata": {},
   "source": [
    "### Retirement Analysis"
   ]
  },
  {
   "cell_type": "code",
   "execution_count": 50,
   "metadata": {},
   "outputs": [
    {
     "name": "stdout",
     "output_type": "stream",
     "text": [
      "count           500.000000\n",
      "mean             15.298720\n",
      "std              11.180746\n",
      "min               1.348514\n",
      "25%               7.846704\n",
      "50%              12.730982\n",
      "75%              19.234657\n",
      "max              86.177367\n",
      "95% CI Lower      3.292585\n",
      "95% CI Upper     46.945993\n",
      "Name: 7560, dtype: float64\n"
     ]
    }
   ],
   "source": [
    "# Fetch summary statistics from the Monte Carlo simulation results\n",
    "tbl = MC_30_year.summarize_cumulative_return()\n",
    "\n",
    "# Print summary statistics\n",
    "print(tbl)"
   ]
  },
  {
   "cell_type": "markdown",
   "metadata": {},
   "source": [
    "### Calculate the expected portfolio return at the `95%` lower and upper confidence intervals based on a `$20,000` initial investment."
   ]
  },
  {
   "cell_type": "code",
   "execution_count": 43,
   "metadata": {},
   "outputs": [
    {
     "ename": "NameError",
     "evalue": "name 'ci_lower' is not defined",
     "output_type": "error",
     "traceback": [
      "\u001b[0;31m---------------------------------------------------------------------------\u001b[0m",
      "\u001b[0;31mNameError\u001b[0m                                 Traceback (most recent call last)",
      "\u001b[0;32m/var/folders/0f/2dnx6rh522v4l5kmfz9p8mvc0000gn/T/ipykernel_4862/3412263078.py\u001b[0m in \u001b[0;36m<module>\u001b[0;34m\u001b[0m\n\u001b[1;32m      6\u001b[0m \u001b[0;34m\u001b[0m\u001b[0m\n\u001b[1;32m      7\u001b[0m \u001b[0;31m# Print results\u001b[0m\u001b[0;34m\u001b[0m\u001b[0;34m\u001b[0m\u001b[0;34m\u001b[0m\u001b[0m\n\u001b[0;32m----> 8\u001b[0;31m print(f\"There is a 95% chance that an initial investment of ${initial_investment} in the portfolio\"\n\u001b[0m\u001b[1;32m      9\u001b[0m       \u001b[0;34mf\" over the next 30 years will end within in the range of\"\u001b[0m\u001b[0;34m\u001b[0m\u001b[0;34m\u001b[0m\u001b[0m\n\u001b[1;32m     10\u001b[0m       f\" ${ci_lower} and ${ci_upper}\")\n",
      "\u001b[0;31mNameError\u001b[0m: name 'ci_lower' is not defined"
     ]
    }
   ],
   "source": [
    "# Set initial investment\n",
    "initial_investment = 20000\n",
    "\n",
    "# Use the lower and upper `95%` confidence intervals to calculate the range of the possible outcomes of our $20,000\n",
    "# YOUR CODE HERE!\n",
    "\n",
    "# Print results\n",
    "print(f\"There is a 95% chance that an initial investment of ${initial_investment} in the portfolio\"\n",
    "      f\" over the next 30 years will end within in the range of\"\n",
    "      f\" ${ci_lower} and ${ci_upper}\")"
   ]
  },
  {
   "cell_type": "markdown",
   "metadata": {},
   "source": [
    "### Calculate the expected portfolio return at the `95%` lower and upper confidence intervals based on a `50%` increase in the initial investment."
   ]
  },
  {
   "cell_type": "code",
   "execution_count": null,
   "metadata": {},
   "outputs": [],
   "source": [
    "# Set initial investment\n",
    "initial_investment = 20000 * 1.5\n",
    "\n",
    "# Use the lower and upper `95%` confidence intervals to calculate the range of the possible outcomes of our $30,000\n",
    "# YOUR CODE HERE!\n",
    "\n",
    "# Print results\n",
    "print(f\"There is a 95% chance that an initial investment of ${initial_investment} in the portfolio\"\n",
    "      f\" over the next 30 years will end within in the range of\"\n",
    "      f\" ${ci_lower} and ${ci_upper}\")"
   ]
  },
  {
   "cell_type": "markdown",
   "metadata": {},
   "source": [
    "## Optional Challenge - Early Retirement\n",
    "\n",
    "\n",
    "### Five Years Retirement Option"
   ]
  },
  {
   "cell_type": "code",
   "execution_count": null,
   "metadata": {},
   "outputs": [],
   "source": [
    "# Configuring a Monte Carlo simulation to forecast 5 years cumulative returns\n",
    "# YOUR CODE HERE!"
   ]
  },
  {
   "cell_type": "code",
   "execution_count": null,
   "metadata": {},
   "outputs": [],
   "source": [
    "# Running a Monte Carlo simulation to forecast 5 years cumulative returns\n",
    "# YOUR CODE HERE!"
   ]
  },
  {
   "cell_type": "code",
   "execution_count": null,
   "metadata": {},
   "outputs": [],
   "source": [
    "# Plot simulation outcomes\n",
    "# YOUR CODE HERE!"
   ]
  },
  {
   "cell_type": "code",
   "execution_count": null,
   "metadata": {},
   "outputs": [],
   "source": [
    "# Plot probability distribution and confidence intervals\n",
    "# YOUR CODE HERE!"
   ]
  },
  {
   "cell_type": "code",
   "execution_count": null,
   "metadata": {},
   "outputs": [],
   "source": [
    "# Fetch summary statistics from the Monte Carlo simulation results\n",
    "# YOUR CODE HERE!\n",
    "\n",
    "# Print summary statistics\n",
    "# YOUR CODE HERE!"
   ]
  },
  {
   "cell_type": "code",
   "execution_count": null,
   "metadata": {},
   "outputs": [],
   "source": [
    "# Set initial investment\n",
    "# YOUR CODE HERE!\n",
    "\n",
    "# Use the lower and upper `95%` confidence intervals to calculate the range of the possible outcomes of our $60,000\n",
    "# YOUR CODE HERE!\n",
    "\n",
    "# Print results\n",
    "print(f\"There is a 95% chance that an initial investment of ${initial_investment} in the portfolio\"\n",
    "      f\" over the next 5 years will end within in the range of\"\n",
    "      f\" ${ci_lower_five} and ${ci_upper_five}\")"
   ]
  },
  {
   "cell_type": "markdown",
   "metadata": {},
   "source": [
    "### Ten Years Retirement Option"
   ]
  },
  {
   "cell_type": "code",
   "execution_count": null,
   "metadata": {},
   "outputs": [],
   "source": [
    "# Configuring a Monte Carlo simulation to forecast 10 years cumulative returns\n",
    "# YOUR CODE HERE!"
   ]
  },
  {
   "cell_type": "code",
   "execution_count": null,
   "metadata": {},
   "outputs": [],
   "source": [
    "# Running a Monte Carlo simulation to forecast 10 years cumulative returns\n",
    "# YOUR CODE HERE!"
   ]
  },
  {
   "cell_type": "code",
   "execution_count": null,
   "metadata": {},
   "outputs": [],
   "source": [
    "# Plot simulation outcomes\n",
    "# YOUR CODE HERE!"
   ]
  },
  {
   "cell_type": "code",
   "execution_count": null,
   "metadata": {},
   "outputs": [],
   "source": [
    "# Plot probability distribution and confidence intervals\n",
    "# YOUR CODE HERE!"
   ]
  },
  {
   "cell_type": "code",
   "execution_count": null,
   "metadata": {},
   "outputs": [],
   "source": [
    "# Fetch summary statistics from the Monte Carlo simulation results\n",
    "# YOUR CODE HERE!\n",
    "\n",
    "# Print summary statistics\n",
    "# YOUR CODE HERE!"
   ]
  },
  {
   "cell_type": "code",
   "execution_count": null,
   "metadata": {},
   "outputs": [],
   "source": [
    "# Set initial investment\n",
    "# YOUR CODE HERE!\n",
    "\n",
    "# Use the lower and upper `95%` confidence intervals to calculate the range of the possible outcomes of our $60,000\n",
    "# YOUR CODE HERE!\n",
    "\n",
    "# Print results\n",
    "print(f\"There is a 95% chance that an initial investment of ${initial_investment} in the portfolio\"\n",
    "      f\" over the next 10 years will end within in the range of\"\n",
    "      f\" ${ci_lower_ten} and ${ci_upper_ten}\")"
   ]
  },
  {
   "cell_type": "code",
   "execution_count": null,
   "metadata": {},
   "outputs": [],
   "source": []
  }
 ],
 "metadata": {
  "kernelspec": {
   "display_name": "Python 3 (ipykernel)",
   "language": "python",
   "name": "python3"
  },
  "language_info": {
   "codemirror_mode": {
    "name": "ipython",
    "version": 3
   },
   "file_extension": ".py",
   "mimetype": "text/x-python",
   "name": "python",
   "nbconvert_exporter": "python",
   "pygments_lexer": "ipython3",
   "version": "3.7.11"
  },
  "nteract": {
   "version": "0.28.0"
  }
 },
 "nbformat": 4,
 "nbformat_minor": 4
}
